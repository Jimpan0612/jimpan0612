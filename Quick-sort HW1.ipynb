{
 "cells": [
  {
   "cell_type": "code",
   "execution_count": 39,
   "metadata": {},
   "outputs": [
    {
     "data": {
      "text/plain": [
       "[-7, -5, -3, -1, -1, -1, 0, 0, 2, 2]"
      ]
     },
     "execution_count": 39,
     "metadata": {},
     "output_type": "execute_result"
    }
   ],
   "source": [
    "#Quick-sort\n",
    "#透過先訂定一個基準點來將其他數值分為大於或小於基準點，再從分割出來的兩堆數值重複取基準點的動作，重複此步驟直到所有欄位剩下一個數值無法再分割\n",
    "def partition(list): \n",
    "    \n",
    "    if len(list) <= 1: \n",
    "        return list #當列表的數值無法再分割時回報結果\n",
    "    else:\n",
    "        pivot=list[-1]  #取最後一個數為基準點\n",
    "        equal=[]\n",
    "        low=[]\n",
    "        high=[]\n",
    "    \n",
    "        \n",
    "        for i in list:\n",
    "            if i>pivot:\n",
    "                high.append(i) #取大於基準點的數值\n",
    "            elif i < pivot:\n",
    "                low.append(i) #取小於基準點的數值\n",
    "            else:\n",
    "                equal.append(i) #取相等數值\n",
    "                \n",
    "                \n",
    "        return partition(low)+equal+partition(high) #將較小的數值放於基準點左側，將相等數值置中，將較大的數值放於基準點右側後取結果\n",
    "    \n",
    "#結果測試    \n",
    "list1=[2,1,6,9,8,5,7] #全部正整數\n",
    "list2=[9,-2,5] #正負整數交雜\n",
    "list3=[-1,-3,2,-5,-1,0,-7,0,-1,2] #有同樣數值\n",
    "partition(list1) \n",
    "partition(list2)\n",
    "partition(list3)"
   ]
  },
  {
   "cell_type": "code",
   "execution_count": null,
   "metadata": {},
   "outputs": [],
   "source": []
  },
  {
   "cell_type": "code",
   "execution_count": null,
   "metadata": {},
   "outputs": [],
   "source": []
  }
 ],
 "metadata": {
  "kernelspec": {
   "display_name": "Python 3",
   "language": "python",
   "name": "python3"
  },
  "language_info": {
   "codemirror_mode": {
    "name": "ipython",
    "version": 3
   },
   "file_extension": ".py",
   "mimetype": "text/x-python",
   "name": "python",
   "nbconvert_exporter": "python",
   "pygments_lexer": "ipython3",
   "version": "3.7.0"
  }
 },
 "nbformat": 4,
 "nbformat_minor": 2
}
